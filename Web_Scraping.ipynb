{
  "nbformat": 4,
  "nbformat_minor": 0,
  "metadata": {
    "colab": {
      "name": "Web_Scraping.ipynb",
      "provenance": []
    },
    "kernelspec": {
      "name": "python3",
      "display_name": "Python 3"
    },
    "language_info": {
      "name": "python"
    }
  },
  "cells": [
    {
      "cell_type": "markdown",
      "source": [
        "## <center> DISNEY'S MOVIES: WEB SCRAPING <center>\n",
        "\n"
      ],
      "metadata": {
        "id": "Q2MCdC9EuU9t"
      }
    },
    {
      "cell_type": "markdown",
      "source": [
        "#### IMPORT LIBRARIES"
      ],
      "metadata": {
        "id": "rHyh4qMo7dxs"
      }
    },
    {
      "cell_type": "code",
      "execution_count": null,
      "metadata": {
        "id": "2e4QNOWQgvNa"
      },
      "outputs": [],
      "source": [
        "from bs4 import BeautifulSoup\n",
        "import requests"
      ]
    },
    {
      "cell_type": "markdown",
      "source": [
        "## TASK 1: GET DATA FROM AN EXAMPLE MOVIE \n",
        "### 1.1. Loading the webpage"
      ],
      "metadata": {
        "id": "OFxWmHr1vOIU"
      }
    },
    {
      "cell_type": "code",
      "source": [
        "source = requests.get('https://en.wikipedia.org/wiki/Born_in_China')\n",
        "webpage = BeautifulSoup(source.content)\n",
        "\n",
        "# print(webpage.prettify)"
      ],
      "metadata": {
        "id": "9BWFazc4hNfL"
      },
      "execution_count": null,
      "outputs": []
    },
    {
      "cell_type": "markdown",
      "source": [
        "#### 1.2. Movie Info Table"
      ],
      "metadata": {
        "id": "LWoyZqiyz-EU"
      }
    },
    {
      "cell_type": "code",
      "source": [
        "info_table = webpage.find('table', class_ = 'infobox vevent').find_all('tr')\n",
        "\n",
        "movie = {}\n",
        "\n",
        "for index, row in enumerate(info_table):\n",
        "   \n",
        "  if index == 0:  # Movie title\n",
        "    movie['Title'] = row.find('th').get_text()\n",
        "  elif index == 1:  # Movie image\n",
        "    continue\n",
        "  else:  # Other infomation\n",
        "    try:\n",
        "      movie_key = row.find('th').get_text()\n",
        "      movie_data = row.find('td').get_text()\n",
        "      movie[movie_key] = movie_data\n",
        "    except:\n",
        "      continue\n",
        "\n",
        "movie"
      ],
      "metadata": {
        "colab": {
          "base_uri": "https://localhost:8080/"
        },
        "id": "HBaHOjgJGOK0",
        "outputId": "c776b160-7e11-4386-9355-3ff1dbcbc91e"
      },
      "execution_count": null,
      "outputs": [
        {
          "output_type": "execute_result",
          "data": {
            "text/plain": [
              "{'Box office': '$25.1 million[4]',\n",
              " 'Budget': '$5–10 million[3]',\n",
              " 'Countries': 'United StatesChinaFrance',\n",
              " 'Directed by': 'Lu Chuan',\n",
              " 'Distributed by': 'Walt Disney Studios Motion PicturesShanghai Media Group (China)[2]',\n",
              " 'Edited by': 'Matthew Meech',\n",
              " 'Languages': 'EnglishMandarinFrench',\n",
              " 'Music by': 'Barnaby Taylor',\n",
              " 'Narrated by': 'John Krasinski (American release)Zhou Xun (Chinese release)Claire Keim (French release)',\n",
              " 'Produced by': 'Roy ConliBrian LeithPhil Chapman',\n",
              " 'Productioncompanies': '\\nDisneynature\\nShanghai Media Group\\nChuan Films\\nBrian Leith Productions[1]\\n',\n",
              " 'Release dates': '\\nAugust\\xa012,\\xa02016\\xa0(2016-08-12) (China)\\nApril\\xa021,\\xa02017\\xa0(2017-04-21) (United States)\\nAugust\\xa023,\\xa02017\\xa0(2017-08-23) (France)\\n',\n",
              " 'Running time': '76 minutes[2]',\n",
              " 'Screenplay by': 'David FowlerBrian LeithPhil ChapmanLu Chuan',\n",
              " 'Simplified': '我们诞生在中国',\n",
              " 'Title': 'Born in China',\n",
              " 'Traditional': '我們誕生在中國'}"
            ]
          },
          "metadata": {},
          "execution_count": 9
        }
      ]
    },
    {
      "cell_type": "code",
      "source": [
        "def clean_tag(row):\n",
        "  '''\n",
        "  Remove references and a datatime format (2010-06-12)\n",
        "  '''\n",
        "  if row.find('sup') or row.find('span', class_ = 'bday dtstart published updated'):\n",
        "    for tag in row.find_all(['sup', 'span']):\n",
        "      tag.decompose()\n",
        "\n",
        "\n",
        "\n",
        "def get_list_data(row):\n",
        "  \n",
        "  ''' \n",
        "  To list the data if a key has more than a paired value\n",
        "  '''\n",
        "\n",
        "  if row.find('li'):\n",
        "    return [li.get_text(' ', strip = True).replace('\\xa0', ' ') for li in row.find_all('li')]\n",
        "\n",
        "  elif row.find('br'):\n",
        "    return [text.replace('\\xa0', ' ') for text in row.stripped_strings]\n",
        "  \n",
        "  else:\n",
        "    return row.get_text(' ', strip = True).replace('\\xa0', ' ')\n",
        "\n",
        "\n",
        "\n",
        "def get_movie_info(url):\n",
        "  \n",
        "  ''' \n",
        "  Get the movie infomation from the given url link \n",
        "  '''\n",
        "  \n",
        "  ### Loading the page\n",
        "  source = requests.get(url)\n",
        "  webpage = BeautifulSoup(source.content)\n",
        "\n",
        "  info_table = webpage.find('table', class_ = 'infobox vevent').find_all('tr')\n",
        "\n",
        "\n",
        "  ### Store the movie info\n",
        "  movie = {}\n",
        "\n",
        "  for index, row in enumerate(info_table):\n",
        "\n",
        "    if index == 0:\n",
        "      movie['Title'] = row.find('th').get_text(' ', strip = True)\n",
        "    else:\n",
        "      try:\n",
        "        clean_tag(row)  # Clean tags\n",
        "        movie_key = row.find('th').get_text(' ', strip = True)\n",
        "        movie_data = get_list_data(row.find('td'))\n",
        "        movie[movie_key] = movie_data\n",
        "      except:\n",
        "        continue\n",
        "\n",
        "  return movie\n"
      ],
      "metadata": {
        "id": "cUpjxqdWvxU8"
      },
      "execution_count": null,
      "outputs": []
    },
    {
      "cell_type": "code",
      "source": [
        "## Let's try to get the movie infomation\n",
        "get_movie_info('https://en.wikipedia.org/wiki/Sister_Act_(franchise)#Sister_Act_3_(TBA)')"
      ],
      "metadata": {
        "colab": {
          "base_uri": "https://localhost:8080/"
        },
        "id": "DVxPiHJYKaU9",
        "outputId": "4361d512-3f0a-49ef-de0f-4dd235fed642"
      },
      "execution_count": null,
      "outputs": [
        {
          "output_type": "execute_result",
          "data": {
            "text/plain": [
              "{'Created by': 'Paul Rudnick',\n",
              " 'Film(s)': ['Sister Act',\n",
              "  '(1992)',\n",
              "  'Sister Act 2: Back in the Habit',\n",
              "  '(1993)'],\n",
              " 'Musical(s)': 'Sister Act',\n",
              " 'Original work': 'Theatrical film',\n",
              " 'Owner': ['Walt Disney Studios', '(', 'The Walt Disney Company', ')'],\n",
              " 'Soundtrack(s)': ['Sister Act', 'Sister Act 2: Back in the Habit'],\n",
              " 'Title': 'Sister Act'}"
            ]
          },
          "metadata": {},
          "execution_count": 40
        }
      ]
    },
    {
      "cell_type": "code",
      "source": [
        "a = get_movie_info('https://en.wikipedia.org/wiki/Born_in_China')\n",
        "for key in a:\n",
        "  print(key, ' : ', a[key])"
      ],
      "metadata": {
        "colab": {
          "base_uri": "https://localhost:8080/"
        },
        "id": "-JC8Mx2GbFF8",
        "outputId": "f56eca0c-18d0-4f79-c2ec-07a3a93645da"
      },
      "execution_count": null,
      "outputs": [
        {
          "output_type": "stream",
          "name": "stdout",
          "text": [
            "Title  :  Born in China\n",
            "Traditional  :  我們誕生在中國\n",
            "Simplified  :  我们诞生在中国\n",
            "Directed by  :  Lu Chuan\n",
            "Screenplay by  :  ['David Fowler', 'Brian Leith', 'Phil Chapman', 'Lu Chuan']\n",
            "Produced by  :  ['Roy Conli', 'Brian Leith', 'Phil Chapman']\n",
            "Narrated by  :  ['John Krasinski', '(American release)', 'Zhou Xun', '(Chinese release)', 'Claire Keim', '(French release)']\n",
            "Edited by  :  Matthew Meech\n",
            "Music by  :  Barnaby Taylor\n",
            "Production companies  :  ['Disneynature', 'Shanghai Media Group', 'Chuan Films', 'Brian Leith Productions']\n",
            "Distributed by  :  ['Walt Disney Studios Motion Pictures', 'Shanghai Media Group', '(China)']\n",
            "Release dates  :  ['August 12, 2016 (China)', 'April 21, 2017 (United States)', 'August 23, 2017 (France)']\n",
            "Running time  :  76 minutes\n",
            "Countries  :  ['United States', 'China', 'France']\n",
            "Languages  :  ['English', 'Mandarin', 'French']\n",
            "Budget  :  $5–10 million\n",
            "Box office  :  $25.1 million\n"
          ]
        }
      ]
    },
    {
      "cell_type": "markdown",
      "source": [
        "## TAKS 2: LIST OF DISNEY'S MOVIES\n",
        "#### 2.1. Loading page"
      ],
      "metadata": {
        "id": "kh-vdvjpxG7K"
      }
    },
    {
      "cell_type": "code",
      "source": [
        "source = requests.get('https://en.wikipedia.org/wiki/List_of_Walt_Disney_Pictures_films')\n",
        "webpage = BeautifulSoup(source.content)"
      ],
      "metadata": {
        "id": "-71gUdtCkIcQ"
      },
      "execution_count": null,
      "outputs": []
    },
    {
      "cell_type": "markdown",
      "source": [
        "#### 2.2. Get relative movie's links and access the movie data"
      ],
      "metadata": {
        "id": "hAeSTKM49ZVm"
      }
    },
    {
      "cell_type": "code",
      "source": [
        "movies = webpage.select('.wikitable.sortable i a')\n",
        "\n",
        "base_path = 'https://en.wikipedia.org/'\n",
        "movie_info_list = []\n",
        "\n",
        "\n",
        "for index, movie in enumerate(movies):\n",
        "  \n",
        "  # if index == 6:\n",
        "  #   break\n",
        "\n",
        "  try:\n",
        "    relative_path = movie['href']\n",
        "    full_path = base_path + relative_path\n",
        "    movie_info_list.append(get_movie_info(full_path))\n",
        "  \n",
        "  except Exception as e:\n",
        "    print(e)\n",
        "    print(movie.get_text())\n"
      ],
      "metadata": {
        "id": "kH4WQDRetE-w",
        "colab": {
          "base_uri": "https://localhost:8080/"
        },
        "outputId": "021f41c5-648b-4f80-a51f-8db6aa2ba5cb"
      },
      "execution_count": null,
      "outputs": [
        {
          "output_type": "stream",
          "name": "stdout",
          "text": [
            "'NoneType' object has no attribute 'find_all'\n",
            "61\n",
            "'NoneType' object has no attribute 'find_all'\n",
            "Keeper of the Lost Cities\n",
            "'NoneType' object has no attribute 'find_all'\n",
            "Muppet Man\n",
            "'NoneType' object has no attribute 'find_all'\n",
            "The Thief\n",
            "'NoneType' object has no attribute 'find_all'\n",
            "Tom Sawyer\n",
            "'NoneType' object has no attribute 'find_all'\n",
            "Tower of Terror\n",
            "'NoneType' object has no attribute 'find_all'\n",
            "FC Barcelona\n",
            "'NoneType' object has no attribute 'find_all'\n",
            "Young Woman and the Sea\n"
          ]
        }
      ]
    },
    {
      "cell_type": "code",
      "source": [
        "print(len(movies))\n",
        "print(len(movie_info_list))"
      ],
      "metadata": {
        "colab": {
          "base_uri": "https://localhost:8080/"
        },
        "id": "WUQz1-6LKFvL",
        "outputId": "33dc275b-4d50-4347-9f8d-4d7fa262cf63"
      },
      "execution_count": null,
      "outputs": [
        {
          "output_type": "stream",
          "name": "stdout",
          "text": [
            "534\n",
            "526\n"
          ]
        }
      ]
    },
    {
      "cell_type": "markdown",
      "source": [
        "The movies in the Exception list cannot be accessed to the infomation. This is because the attached links either do not exit or are not the true movie link (eg. its original novel, music, city, ect). In this case, we can skip them."
      ],
      "metadata": {
        "id": "YZ41gc66Jv_Z"
      }
    },
    {
      "cell_type": "markdown",
      "source": [
        "#### 2.3. Save and Reload movie data"
      ],
      "metadata": {
        "id": "BKoP8XI04vmG"
      }
    },
    {
      "cell_type": "code",
      "source": [
        "import json\n",
        "\n",
        "def save_file(title, data):\n",
        "  with open(title, 'w', encoding = 'utf-8') as f:\n",
        "    json.dump(data, f, ensure_ascii = False, indent = 2)\n",
        "\n",
        "\n",
        "save_file('disney_data.json', movie_info_list)\n",
        "\n",
        "# ## This is for downloading files from Google colab jupiter to local system\n",
        "from google.colab import files\n",
        "files.download('disney_data.json')"
      ],
      "metadata": {
        "id": "h96nQzPbFSQA"
      },
      "execution_count": null,
      "outputs": []
    },
    {
      "cell_type": "code",
      "execution_count": null,
      "metadata": {
        "id": "ZhK9TC0Crh-I"
      },
      "outputs": [],
      "source": [
        ""
      ]
    }
  ]
}